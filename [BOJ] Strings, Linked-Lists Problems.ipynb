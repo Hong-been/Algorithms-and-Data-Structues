{
 "cells": [
  {
   "cell_type": "markdown",
   "metadata": {},
   "source": [
    "# BOJ Strings, Linked-Lists Problems\n",
    "- Strings - 10808, 10809, 10820, 11655, 10824, 11656\n",
    "- Linked-lists - 1406, 1158\n",
    "- 각 문제 링크는 \"boj.kr/문제번호\""
   ]
  },
  {
   "cell_type": "code",
   "execution_count": null,
   "metadata": {},
   "outputs": [],
   "source": [
    "# 10808\n",
    "import sys\n",
    "\n",
    "s=sys.stdin.readline().strip()\n",
    "letters=[0]*26\n",
    "\n",
    "for l in s:\n",
    "    letters[ord(l)-97]+=1\n",
    "\n",
    "for l in letters:\n",
    "    sys.stdout.write(str(l)+\" \")"
   ]
  },
  {
   "cell_type": "code",
   "execution_count": 1,
   "metadata": {},
   "outputs": [],
   "source": [
    "# 10809\n",
    "import sys\n",
    "\n",
    "s=sys.stdin.readline().rstrip()\n",
    "alpha=[-1]*26\n",
    "\n",
    "for i in range(len(s)):\n",
    "    if alpha[ord(s[i])-97]==-1:\n",
    "        alpha[ord(s[i])-97]=i\n",
    "    else:\n",
    "        pass\n",
    "        \n",
    "for a in alpha:\n",
    "    sys.stdout.write(str(a)+\" \")"
   ]
  },
  {
   "cell_type": "code",
   "execution_count": 2,
   "metadata": {},
   "outputs": [],
   "source": [
    "# 10820\n",
    "import sys\n",
    "\n",
    "while 1:\n",
    "    \n",
    "    count = [0, 0, 0, 0]\n",
    "\n",
    "    input = sys.stdin.readline().rstrip(\"\\n\")\n",
    "    if not input:\n",
    "        break\n",
    "\n",
    "    for i in input:\n",
    "        if i.islower():\n",
    "            count[0] += 1\n",
    "        elif i.isupper():\n",
    "            count[1] += 1\n",
    "        elif i.isdigit():\n",
    "            count[2] += 1\n",
    "        elif i.isspace():\n",
    "            count[3] += 1\n",
    "\n",
    "    sys.stdout.write(\"{} {} {} {}\\n\".format(count[0],count[1],count[2],count[3]))"
   ]
  },
  {
   "cell_type": "code",
   "execution_count": 3,
   "metadata": {},
   "outputs": [],
   "source": [
    "# 11655\n",
    "import sys\n",
    "answer=\"\"\n",
    "ss = sys.stdin.readline().rstrip()\n",
    "\n",
    "for i in ss:\n",
    "    if i.isupper():\n",
    "        if chr(ord(i)+13).isupper():\n",
    "            answer+=chr(ord(i) + 13)\n",
    "        else:\n",
    "            answer+=chr(ord(i) - 13)\n",
    "            \n",
    "    elif i.islower():\n",
    "        if chr(ord(i)+13).islower():\n",
    "            answer+=chr(ord(i) + 13)\n",
    "        else:\n",
    "            answer+=chr(ord(i) - 13)\n",
    "    else:\n",
    "        answer+=i\n",
    "sys.stdout.write(answer)"
   ]
  },
  {
   "cell_type": "code",
   "execution_count": 4,
   "metadata": {},
   "outputs": [],
   "source": [
    "# 10824\n",
    "import sys\n",
    "a,b,c,d=map(str,sys.stdin.readline().rstrip().split())\n",
    "\n",
    "a=int(a)*(10**len(b))\n",
    "c=int(c)*(10**len(d))\n",
    "print((a+int(b))+(c+int(d)))"
   ]
  },
  {
   "cell_type": "code",
   "execution_count": 5,
   "metadata": {},
   "outputs": [],
   "source": [
    "# 11656\n",
    "import sys\n",
    "s=sys.stdin.readline().rstrip()\n",
    "words=[]\n",
    "\n",
    "for i in range(len(s)):\n",
    "    words.append(s[i:])\n",
    "    \n",
    "words.sort()\n",
    "\n",
    "for w in words:\n",
    "    print(w)"
   ]
  },
  {
   "cell_type": "code",
   "execution_count": 6,
   "metadata": {},
   "outputs": [],
   "source": [
    "# 1406\n",
    "import sys\n",
    "\n",
    "input = list(sys.stdin.readline().rstrip())\n",
    "length = len(input)\n",
    "stack = []\n",
    "\n",
    "m = int(sys.stdin.readline().rstrip())\n",
    "\n",
    "for _ in range(m):\n",
    "    cmd = sys.stdin.readline().rstrip().split()\n",
    "\n",
    "    if cmd[0] == \"L\" and len(input) > 0:\n",
    "        stack.append(input.pop())\n",
    "    elif cmd[0] == \"D\" and len(stack) > 0:\n",
    "        input.append(stack.pop())\n",
    "    elif cmd[0] == \"B\" and len(input) > 0:\n",
    "        input.pop()\n",
    "    elif cmd[0] == \"P\":\n",
    "        input.append(cmd[1])\n",
    "\n",
    "sys.stdout.write(\"\".join(input + stack[::-1]))"
   ]
  },
  {
   "cell_type": "code",
   "execution_count": null,
   "metadata": {},
   "outputs": [],
   "source": [
    "# 1158\n",
    "import sys\n",
    "\n",
    "n, k = map(int, sys.stdin.readline().rstrip().split())\n",
    "people = [i for i in range(1, n + 1)]\n",
    "answer = []\n",
    "num = 0\n",
    "\n",
    "for t in range(n):\n",
    "    num += k - 1\n",
    "    if num >= len(people):\n",
    "        num = num % len(people)\n",
    "    answer.append(str(people.pop(num)))\n",
    "    \n",
    "sys.stdout.write(\"<\" + \", \".join(answer) + \">\")"
   ]
  }
 ],
 "metadata": {
  "kernelspec": {
   "display_name": "Python 3",
   "language": "python",
   "name": "python3"
  },
  "language_info": {
   "codemirror_mode": {
    "name": "ipython",
    "version": 3
   },
   "file_extension": ".py",
   "mimetype": "text/x-python",
   "name": "python",
   "nbconvert_exporter": "python",
   "pygments_lexer": "ipython3",
   "version": "3.8.5"
  }
 },
 "nbformat": 4,
 "nbformat_minor": 4
}
