{
 "cells": [
  {
   "cell_type": "markdown",
   "metadata": {},
   "source": [
    "# BOJ Sorting Problems (총 8문제)\n",
    "- 2751, 11650, 11651, 10814, 10825, 10989,11652, 11004\n",
    "- 각 문제의 링크는 \"boj.kr/문제번호\""
   ]
  },
  {
   "cell_type": "code",
   "execution_count": 1,
   "metadata": {},
   "outputs": [],
   "source": [
    "# 2751\n",
    "n = int(input())\n",
    "array = []\n",
    "for _ in range(n):\n",
    "    m = int(input())\n",
    "    array.append(m)\n",
    "\n",
    "for a in sorted(array):\n",
    "    print(a)"
   ]
  },
  {
   "cell_type": "code",
   "execution_count": 2,
   "metadata": {},
   "outputs": [],
   "source": [
    "#11650\n",
    "n=int(input())\n",
    "position=[]\n",
    "\n",
    "for _ in range(n):\n",
    "    position.append(list(map(int,input().split())))\n",
    "\n",
    "position.sort(key=lambda x:(x[0],x[1]))\n",
    "\n",
    "for i in position:\n",
    "    print(i[0],i[1])"
   ]
  },
  {
   "cell_type": "code",
   "execution_count": 3,
   "metadata": {},
   "outputs": [],
   "source": [
    "# 11651\n",
    "n=int(input())\n",
    "position=[]\n",
    "\n",
    "for _ in range(n):\n",
    "    position.append(list(map(int,input().split())))\n",
    "    \n",
    "position.sort(key=lambda x: (x[1],x[0]))\n",
    "\n",
    "for p in position:\n",
    "    print(p[0],p[1])"
   ]
  },
  {
   "cell_type": "code",
   "execution_count": 4,
   "metadata": {},
   "outputs": [],
   "source": [
    "# 10814\n",
    "n = int(input())\n",
    "info = []\n",
    "\n",
    "for _ in range(n):\n",
    "    info.append(list(map(str, input().split())))\n",
    "\n",
    "info.sort(key=lambda x: int(x[0]))\n",
    "\n",
    "for i in info:\n",
    "    print(i[0], i[1])"
   ]
  },
  {
   "cell_type": "code",
   "execution_count": 5,
   "metadata": {},
   "outputs": [],
   "source": [
    "# 10825\n",
    "n=int(input())\n",
    "info=[]\n",
    "\n",
    "for _ in range(n):\n",
    "    info.append(list(map(str,input().split())))\n",
    "    \n",
    "info.sort(key=lambda x:(-int(x[1]),int(x[2]),-int(x[3]), x[0]))\n",
    "\n",
    "for i in info:\n",
    "    print(i[0])"
   ]
  },
  {
   "cell_type": "code",
   "execution_count": 6,
   "metadata": {},
   "outputs": [],
   "source": [
    "# 10989\n",
    "import sys\n",
    "n=int(sys.stdin.readline())\n",
    "\n",
    "list=[0]*10001\n",
    "\n",
    "for i in range(n):\n",
    "    list[int(sys.stdin.readline())]+=1\n",
    "\n",
    "for i in range(10001):\n",
    "    if list[i]>0:\n",
    "        for j in range(list[i]):\n",
    "            sys.stdout.write(str(i)+'\\n')"
   ]
  },
  {
   "cell_type": "code",
   "execution_count": 7,
   "metadata": {},
   "outputs": [],
   "source": [
    "# 11652\n",
    "import sys\n",
    "n=int(sys.stdin.readline())\n",
    "num={}\n",
    "for _ in range(n):\n",
    "    m=int(sys.stdin.readline())\n",
    "    \n",
    "    if m in num:\n",
    "        num[m]+=1\n",
    "    else:\n",
    "        num[m]=1\n",
    "        \n",
    "# value 내림차순, key 오름차순\n",
    "num=sorted(num.items(),key=lambda x:(-x[1],x[0]))\n",
    "\n",
    "sys.stdout.write(str(num[0][0]))"
   ]
  },
  {
   "cell_type": "code",
   "execution_count": null,
   "metadata": {},
   "outputs": [],
   "source": [
    "# 11004\n",
    "import sys\n",
    "n,k=map(int,sys.stdin.readline().split())\n",
    "num=list(map(int,sys.stdin.readline().split()))    \n",
    "num.sort()\n",
    "\n",
    "sys.stdout.write(str(num[k-1]))"
   ]
  }
 ],
 "metadata": {
  "kernelspec": {
   "display_name": "Python 3",
   "language": "python",
   "name": "python3"
  },
  "language_info": {
   "codemirror_mode": {
    "name": "ipython",
    "version": 3
   },
   "file_extension": ".py",
   "mimetype": "text/x-python",
   "name": "python",
   "nbconvert_exporter": "python",
   "pygments_lexer": "ipython3",
   "version": "3.6.8"
  }
 },
 "nbformat": 4,
 "nbformat_minor": 4
}
